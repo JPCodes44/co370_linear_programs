{
 "cells": [
  {
   "cell_type": "code",
   "execution_count": null,
   "id": "17a31bf6-b650-4dc5-aaa9-1e915392ce22",
   "metadata": {},
   "outputs": [],
   "source": [
    "from gurobipy import *"
   ]
  },
  {
   "cell_type": "code",
   "execution_count": null,
   "id": "53eaa38a-dfc7-427d-a02d-5f387a4e963a",
   "metadata": {},
   "outputs": [],
   "source": [
    "m = read('chemical.lp')   # read the model 'chemical.lp' and assign m to it"
   ]
  },
  {
   "cell_type": "code",
   "execution_count": null,
   "id": "f02b40d7-ade3-4010-a723-e5998a0dd988",
   "metadata": {},
   "outputs": [],
   "source": [
    "m.optimize()   # optimize model m"
   ]
  },
  {
   "cell_type": "code",
   "execution_count": null,
   "id": "b604eb82-4f12-40b2-a385-73f594e30175",
   "metadata": {},
   "outputs": [],
   "source": [
    "m.printAttr('X')   # print variable values in the optimal solution of m"
   ]
  },
  {
   "cell_type": "code",
   "execution_count": null,
   "id": "6dc51eab-d6a8-4f90-8968-709da6431ba3",
   "metadata": {},
   "outputs": [],
   "source": [
    "v = m.getVars()   # assign the list of variables to v"
   ]
  },
  {
   "cell_type": "code",
   "execution_count": null,
   "id": "7d799d43-4a31-4f76-978c-d5a531ac359a",
   "metadata": {},
   "outputs": [],
   "source": [
    "v[0].varName   # output the variable name of variable indexed 0"
   ]
  },
  {
   "cell_type": "code",
   "execution_count": null,
   "id": "307cdbc5-910b-400b-a330-3fe010e373f5",
   "metadata": {},
   "outputs": [],
   "source": [
    "v[0].ub = 15   # change the upper bound on variable indexed 0 to 15"
   ]
  },
  {
   "cell_type": "code",
   "execution_count": null,
   "id": "f9c8685b-749b-4c5e-852b-c3fb7f2b9c67",
   "metadata": {},
   "outputs": [],
   "source": [
    "m.optimize()   # re-optimize with the new upper bound"
   ]
  },
  {
   "cell_type": "code",
   "execution_count": null,
   "id": "56f7874b-1af0-426e-b9a4-87403fa8cddb",
   "metadata": {},
   "outputs": [],
   "source": [
    "m.printAttr('X')"
   ]
  }
 ],
 "metadata": {
  "kernelspec": {
   "display_name": "Python [conda env:base] *",
   "language": "python",
   "name": "conda-base-py"
  },
  "language_info": {
   "codemirror_mode": {
    "name": "ipython",
    "version": 3
   },
   "file_extension": ".py",
   "mimetype": "text/x-python",
   "name": "python",
   "nbconvert_exporter": "python",
   "pygments_lexer": "ipython3",
   "version": "3.13.5"
  }
 },
 "nbformat": 4,
 "nbformat_minor": 5
}
