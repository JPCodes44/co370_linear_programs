{
 "cells": [
  {
   "cell_type": "code",
   "execution_count": 306,
   "id": "ffdcb357-7707-4ef6-bb29-d8a442e7c5f0",
   "metadata": {},
   "outputs": [],
   "source": [
    "from gurobipy import *\n",
    "from math import ceil\n",
    "from math import floor"
   ]
  },
  {
   "cell_type": "code",
   "execution_count": 307,
   "id": "d14a56b0",
   "metadata": {},
   "outputs": [
    {
     "name": "stdout",
     "output_type": "stream",
     "text": [
      "Read LP format model from file steel_blend.lp\n",
      "Reading time = 0.00 seconds\n",
      "profit: 23 rows, 12 columns, 100 nonzeros\n"
     ]
    }
   ],
   "source": [
    "m = read('steel_blend.lp')"
   ]
  },
  {
   "cell_type": "code",
   "execution_count": 308,
   "id": "0c951c0c",
   "metadata": {},
   "outputs": [
    {
     "name": "stdout",
     "output_type": "stream",
     "text": [
      "Gurobi Optimizer version 12.0.3 build v12.0.3rc0 (mac64[arm] - Darwin 24.6.0 24G222)\n",
      "\n",
      "CPU model: Apple M2\n",
      "Thread count: 8 physical cores, 8 logical processors, using up to 8 threads\n",
      "\n",
      "Optimize a model with 23 rows, 12 columns and 100 nonzeros\n",
      "Model fingerprint: 0x5ca8c1d7\n",
      "Coefficient statistics:\n",
      "  Matrix range     [5e-04, 1e+00]\n",
      "  Objective range  [4e+02, 2e+03]\n",
      "  Bounds range     [0e+00, 0e+00]\n",
      "  RHS range        [5e+01, 3e+03]\n",
      "Presolve time: 0.00s\n",
      "Presolved: 23 rows, 12 columns, 100 nonzeros\n",
      "\n",
      "Iteration    Objective       Primal Inf.    Dual Inf.      Time\n",
      "       0    3.4000000e+33   4.198000e+30   3.400000e+03      0s\n",
      "      22    1.7951253e+06   0.000000e+00   0.000000e+00      0s\n",
      "\n",
      "Solved in 22 iterations and 0.00 seconds (0.00 work units)\n",
      "Optimal objective  1.795125265e+06\n"
     ]
    }
   ],
   "source": [
    "m.optimize()"
   ]
  },
  {
   "cell_type": "code",
   "execution_count": null,
   "id": "439e5e50",
   "metadata": {},
   "outputs": [
    {
     "name": "stdout",
     "output_type": "stream",
     "text": [
      "SAObjLow: 888.4887244538409  SAObjUp: 3811.386051012827\n"
     ]
    }
   ],
   "source": [
    "\n",
    "vSS = m.getVarByName(\"s_SS\") \n",
    "print(\"SAObjLow:\", vSS.SAObjLow, \" SAObjUp:\", vSS.SAObjUp)"
   ]
  },
  {
   "cell_type": "code",
   "execution_count": null,
   "id": "c5fde141",
   "metadata": {},
   "outputs": [
    {
     "name": "stdout",
     "output_type": "stream",
     "text": [
      "Part (c) answer (integers): p ∈ [889, 3811]\n"
     ]
    }
   ],
   "source": [
    "\n",
    "\n",
    "L = ceil(vSS.SAObjLow)\n",
    "U = floor(vSS.SAObjUp)\n",
    "print(f\"Part (c) answer (integers): p ∈ [{L}, {U}]\")"
   ]
  }
 ],
 "metadata": {
  "kernelspec": {
   "display_name": ".venv",
   "language": "python",
   "name": "python3"
  },
  "language_info": {
   "codemirror_mode": {
    "name": "ipython",
    "version": 3
   },
   "file_extension": ".py",
   "mimetype": "text/x-python",
   "name": "python",
   "nbconvert_exporter": "python",
   "pygments_lexer": "ipython3",
   "version": "3.13.5"
  }
 },
 "nbformat": 4,
 "nbformat_minor": 5
}
