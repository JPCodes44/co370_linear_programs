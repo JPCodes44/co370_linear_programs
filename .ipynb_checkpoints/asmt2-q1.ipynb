{
 "cells": [
  {
   "cell_type": "markdown",
   "id": "bf0c0395-0641-44fb-a6fc-917d0777bb8d",
   "metadata": {
    "tags": []
   },
   "source": [
    "### asmt 1 q1b"
   ]
  },
  {
   "cell_type": "code",
   "execution_count": 31,
   "id": "0b4b5ba5-3038-4114-a320-db147969121a",
   "metadata": {},
   "outputs": [],
   "source": [
    "# Import gurobi stuff\n",
    "\n",
    "import gurobipy as gp\n",
    "from gurobipy import GRB"
   ]
  },
  {
   "cell_type": "code",
   "execution_count": 32,
   "id": "04bdf870-6107-4b79-b3f8-05d37edce831",
   "metadata": {},
   "outputs": [],
   "source": [
    "# Create nodes, set special nodes s and t\n",
    "\n",
    "nodes = ['s','a','b','c','d','e','t']\n",
    "special = ['s','t']\n",
    "\n",
    "# Create a dictionary of arcs and capacities\n",
    "\n",
    "arcs, cap = gp.multidict({\n",
    "    ('s','a'): 15,\n",
    "    ('s','b'): 6,\n",
    "    ('s','c'): 4,\n",
    "    ('a','b'): 3,\n",
    "    ('a','d'): 10,\n",
    "    ('c','b'): 5,\n",
    "    ('c','e'): 6,\n",
    "    ('b','d'): 8,\n",
    "    ('b','e'): 14,\n",
    "    ('d','t'): 7,\n",
    "    ('e','d'): 12,\n",
    "    ('e','t'): 18\n",
    "})"
   ]
  },
  {
   "cell_type": "code",
   "execution_count": 33,
   "id": "45cfd312-3fd3-470f-b896-6d8822b2aa8d",
   "metadata": {},
   "outputs": [],
   "source": [
    "# Create a model, and variables 'flow' for each arc\n",
    "\n",
    "m = gp.Model('MaxFlow')\n",
    "flow = m.addVars(arcs, name=\"flow\")"
   ]
  },
  {
   "cell_type": "code",
   "execution_count": 34,
   "id": "acda9b0c-0804-4151-b9ec-30c0a3b7f188",
   "metadata": {},
   "outputs": [],
   "source": [
    "# Create objective function, maximizing all arcs entering t\n",
    "# flow.sum('*','t') means from the variable flow, sum over all arcs where the second index is 't'\n",
    "\n",
    "m.setObjective(flow.sum('*', 't'),GRB.MAXIMIZE)"
   ]
  },
  {
   "cell_type": "code",
   "execution_count": 35,
   "id": "335ddc64-d94c-4ca3-b79a-e9efe15f7b31",
   "metadata": {},
   "outputs": [
    {
     "data": {
      "text/plain": [
       "{('s', 'a'): <gurobi.Constr *Awaiting Model Update*>,\n",
       " ('s', 'b'): <gurobi.Constr *Awaiting Model Update*>,\n",
       " ('s', 'c'): <gurobi.Constr *Awaiting Model Update*>,\n",
       " ('a', 'b'): <gurobi.Constr *Awaiting Model Update*>,\n",
       " ('a', 'd'): <gurobi.Constr *Awaiting Model Update*>,\n",
       " ('c', 'b'): <gurobi.Constr *Awaiting Model Update*>,\n",
       " ('c', 'e'): <gurobi.Constr *Awaiting Model Update*>,\n",
       " ('b', 'd'): <gurobi.Constr *Awaiting Model Update*>,\n",
       " ('b', 'e'): <gurobi.Constr *Awaiting Model Update*>,\n",
       " ('d', 't'): <gurobi.Constr *Awaiting Model Update*>,\n",
       " ('e', 'd'): <gurobi.Constr *Awaiting Model Update*>,\n",
       " ('e', 't'): <gurobi.Constr *Awaiting Model Update*>}"
      ]
     },
     "execution_count": 35,
     "metadata": {},
     "output_type": "execute_result"
    }
   ],
   "source": [
    "# Create capacity constraints\n",
    "# for each arc \"a\", add the constraints flow[a] <= cap[a]\n",
    "\n",
    "m.addConstrs((flow[a] <= cap[a] for a in arcs), name='cap')"
   ]
  },
  {
   "cell_type": "code",
   "execution_count": 36,
   "id": "9869f800-fa72-417c-ac6a-d3ccf8a58362",
   "metadata": {},
   "outputs": [
    {
     "data": {
      "text/plain": [
       "{'a': <gurobi.Constr *Awaiting Model Update*>,\n",
       " 'b': <gurobi.Constr *Awaiting Model Update*>,\n",
       " 'c': <gurobi.Constr *Awaiting Model Update*>,\n",
       " 'd': <gurobi.Constr *Awaiting Model Update*>,\n",
       " 'e': <gurobi.Constr *Awaiting Model Update*>}"
      ]
     },
     "execution_count": 36,
     "metadata": {},
     "output_type": "execute_result"
    }
   ],
   "source": [
    "# Create flow conservation constraints\n",
    "# for each node n that is in the list 'nodes' but not in the list 'special', we add a constraint.\n",
    "# flow out of n [flow.sum(n,'*')] minus flow in to n [flow.sum('*',n)] is 0\n",
    "\n",
    "m.addConstrs((flow.sum(n,'*')-flow.sum('*',n)==0 for n in nodes if n not in special), name='conserve')"
   ]
  },
  {
   "cell_type": "code",
   "execution_count": 37,
   "id": "5a0dcfcb-89c4-4db8-9da3-119cec3fa978",
   "metadata": {},
   "outputs": [],
   "source": [
    "# Update model\n",
    "\n",
    "m.update()"
   ]
  },
  {
   "cell_type": "code",
   "execution_count": 38,
   "id": "23918aad-01dc-42fd-a45f-0f783ffb4d71",
   "metadata": {},
   "outputs": [],
   "source": [
    "# Save model into an lp file to check for accuracy\n",
    "\n",
    "m.write('asmt2-q1.lp')"
   ]
  },
  {
   "cell_type": "code",
   "execution_count": 39,
   "id": "b16e6499-68a4-4eb9-a3b3-e93f85231a5b",
   "metadata": {},
   "outputs": [
    {
     "name": "stdout",
     "output_type": "stream",
     "text": [
      "Gurobi Optimizer version 12.0.3 build v12.0.3rc0 (mac64[arm] - Darwin 24.6.0 24G309)\n",
      "\n",
      "CPU model: Apple M2\n",
      "Thread count: 8 physical cores, 8 logical processors, using up to 8 threads\n",
      "\n",
      "Optimize a model with 17 rows, 12 columns and 31 nonzeros\n",
      "Model fingerprint: 0x0417e3db\n",
      "Coefficient statistics:\n",
      "  Matrix range     [1e+00, 1e+00]\n",
      "  Objective range  [1e+00, 1e+00]\n",
      "  Bounds range     [0e+00, 0e+00]\n",
      "  RHS range        [3e+00, 2e+01]\n",
      "Presolve removed 13 rows and 5 columns\n",
      "Presolve time: 0.00s\n",
      "Presolved: 4 rows, 7 columns, 12 nonzeros\n",
      "\n",
      "Iteration    Objective       Primal Inf.    Dual Inf.      Time\n",
      "       0    2.5000000e+01   1.399750e+01   0.000000e+00      0s\n",
      "       3    2.0000000e+01   0.000000e+00   0.000000e+00      0s\n",
      "\n",
      "Solved in 3 iterations and 0.00 seconds (0.00 work units)\n",
      "Optimal objective  2.000000000e+01\n"
     ]
    }
   ],
   "source": [
    "# Optimize model\n",
    "\n",
    "m.optimize()"
   ]
  },
  {
   "cell_type": "code",
   "execution_count": 40,
   "id": "a06a4cdd-5749-4480-843e-51b188f4cf75",
   "metadata": {},
   "outputs": [
    {
     "name": "stdout",
     "output_type": "stream",
     "text": [
      "\n",
      "    Variable            x \n",
      "-------------------------\n",
      "   flow[s,a]           10 \n",
      "   flow[s,b]            6 \n",
      "   flow[s,c]            4 \n",
      "   flow[a,b]            3 \n",
      "   flow[a,d]            7 \n",
      "   flow[c,e]            4 \n",
      "   flow[b,e]            9 \n",
      "   flow[d,t]            7 \n",
      "   flow[e,t]           13 \n"
     ]
    }
   ],
   "source": [
    "# Optimal solution\n",
    "\n",
    "m.printAttr('x')"
   ]
  },
  {
   "cell_type": "code",
   "execution_count": null,
   "id": "66fcffd5-4838-4cb7-867e-bd93b829bf8c",
   "metadata": {},
   "outputs": [],
   "source": []
  }
 ],
 "metadata": {
  "kernelspec": {
   "display_name": ".venv",
   "language": "python",
   "name": "python3"
  },
  "language_info": {
   "codemirror_mode": {
    "name": "ipython",
    "version": 3
   },
   "file_extension": ".py",
   "mimetype": "text/x-python",
   "name": "python",
   "nbconvert_exporter": "python",
   "pygments_lexer": "ipython3",
   "version": "3.13.5"
  }
 },
 "nbformat": 4,
 "nbformat_minor": 5
}
