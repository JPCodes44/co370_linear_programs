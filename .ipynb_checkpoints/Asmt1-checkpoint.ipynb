{
 "cells": [
  {
   "cell_type": "code",
   "execution_count": 136,
   "id": "ffdcb357-7707-4ef6-bb29-d8a442e7c5f0",
   "metadata": {},
   "outputs": [],
   "source": [
    "from gurobipy import *"
   ]
  },
  {
   "cell_type": "code",
   "execution_count": 137,
   "id": "d14a56b0",
   "metadata": {},
   "outputs": [
    {
     "name": "stdout",
     "output_type": "stream",
     "text": [
      "Read LP format model from file steel_blend.lp\n",
      "Reading time = 0.00 seconds\n",
      "profit: 23 rows, 12 columns, 100 nonzeros\n"
     ]
    }
   ],
   "source": [
    "m = read('steel_blend.lp')"
   ]
  },
  {
   "cell_type": "code",
   "execution_count": 138,
   "id": "0c951c0c",
   "metadata": {},
   "outputs": [
    {
     "name": "stdout",
     "output_type": "stream",
     "text": [
      "Gurobi Optimizer version 12.0.3 build v12.0.3rc0 (mac64[arm] - Darwin 24.6.0 24G222)\n",
      "\n",
      "CPU model: Apple M2\n",
      "Thread count: 8 physical cores, 8 logical processors, using up to 8 threads\n",
      "\n",
      "Optimize a model with 23 rows, 12 columns and 100 nonzeros\n",
      "Model fingerprint: 0x5ca8c1d7\n",
      "Coefficient statistics:\n",
      "  Matrix range     [5e-04, 1e+00]\n",
      "  Objective range  [4e+02, 2e+03]\n",
      "  Bounds range     [0e+00, 0e+00]\n",
      "  RHS range        [5e+01, 3e+03]\n",
      "Presolve time: 0.02s\n",
      "Presolved: 23 rows, 12 columns, 100 nonzeros\n",
      "\n",
      "Iteration    Objective       Primal Inf.    Dual Inf.      Time\n",
      "       0    3.4000000e+33   4.198000e+30   3.400000e+03      0s\n",
      "      22    1.7951253e+06   0.000000e+00   0.000000e+00      0s\n",
      "\n",
      "Solved in 22 iterations and 0.02 seconds (0.00 work units)\n",
      "Optimal objective  1.795125265e+06\n"
     ]
    }
   ],
   "source": [
    "m.optimize()"
   ]
  },
  {
   "cell_type": "code",
   "execution_count": 139,
   "id": "c5fde141",
   "metadata": {},
   "outputs": [
    {
     "name": "stdout",
     "output_type": "stream",
     "text": [
      "\n",
      "    Variable            X \n",
      "-------------------------\n",
      "        s_SS      948.106 \n",
      "      s_HSLA      1029.91 \n",
      "    x_Pig_SS      1.81355 \n",
      "  x_Pig_HSLA      28.0282 \n",
      "x_Scrap_HSLA           50 \n",
      "x_Wrought_SS      280.241 \n",
      "x_Wrought_HSLA      845.591 \n",
      "x_FerroCr_SS      493.668 \n",
      "x_FerroCr_HSLA      78.6774 \n",
      "x_FerroNi_SS      172.383 \n",
      "x_FerroNi_HSLA      27.6171 \n"
     ]
    }
   ],
   "source": [
    "m.printAttr('X')"
   ]
  },
  {
   "cell_type": "code",
   "execution_count": 140,
   "id": "8c91116e-c3a3-4917-89bd-641e13f0401e",
   "metadata": {},
   "outputs": [],
   "source": [
    "v = m.getVars()"
   ]
  },
  {
   "cell_type": "code",
   "execution_count": 141,
   "id": "c714f0fd-fdbc-467f-bea4-c4e453a33783",
   "metadata": {},
   "outputs": [
    {
     "data": {
      "text/plain": [
       "'s_SS'"
      ]
     },
     "execution_count": 141,
     "metadata": {},
     "output_type": "execute_result"
    }
   ],
   "source": [
    "v[0].varName"
   ]
  },
  {
   "cell_type": "code",
   "execution_count": 142,
   "id": "c60f58ee-6ee4-4a7d-b0c5-dbcf565213e1",
   "metadata": {},
   "outputs": [],
   "source": [
    "v[0].ub = 15"
   ]
  },
  {
   "cell_type": "code",
   "execution_count": 143,
   "id": "1a968182",
   "metadata": {},
   "outputs": [
    {
     "name": "stdout",
     "output_type": "stream",
     "text": [
      "Gurobi Optimizer version 12.0.3 build v12.0.3rc0 (mac64[arm] - Darwin 24.6.0 24G222)\n",
      "\n",
      "CPU model: Apple M2\n",
      "Thread count: 8 physical cores, 8 logical processors, using up to 8 threads\n",
      "\n",
      "Optimize a model with 23 rows, 12 columns and 100 nonzeros\n",
      "Coefficient statistics:\n",
      "  Matrix range     [5e-04, 1e+00]\n",
      "  Objective range  [4e+02, 2e+03]\n",
      "  Bounds range     [2e+01, 2e+01]\n",
      "  RHS range        [5e+01, 3e+03]\n",
      "\n",
      "Iteration    Objective       Primal Inf.    Dual Inf.      Time\n",
      "       0    1.7951253e+06   9.331057e+02   0.000000e+00      0s\n",
      "       2    5.6704823e+05   0.000000e+00   0.000000e+00      0s\n",
      "\n",
      "Solved in 2 iterations and 0.01 seconds (0.00 work units)\n",
      "Optimal objective  5.670482276e+05\n"
     ]
    }
   ],
   "source": [
    "m.optimize()"
   ]
  },
  {
   "cell_type": "code",
   "execution_count": 135,
   "id": "13a5e13c-0af1-47cf-8e18-f3120fe40654",
   "metadata": {},
   "outputs": [
    {
     "name": "stdout",
     "output_type": "stream",
     "text": [
      "\n",
      "    Variable            X \n",
      "-------------------------\n",
      "        s_SS           15 \n",
      "      s_HSLA      1104.14 \n",
      "    x_Pig_SS    0.0286922 \n",
      "  x_Pig_HSLA      30.9007 \n",
      "x_Scrap_HSLA           50 \n",
      "x_Wrought_SS      4.43371 \n",
      "x_Wrought_HSLA      865.125 \n",
      "x_FerroCr_SS      7.81033 \n",
      "x_FerroCr_HSLA      84.5374 \n",
      "x_FerroNi_SS      2.72727 \n",
      "x_FerroNi_HSLA      73.5778 \n"
     ]
    }
   ],
   "source": [
    "m.printAttr('X')"
   ]
  }
 ],
 "metadata": {
  "kernelspec": {
   "display_name": ".venv",
   "language": "python",
   "name": "python3"
  },
  "language_info": {
   "codemirror_mode": {
    "name": "ipython",
    "version": 3
   },
   "file_extension": ".py",
   "mimetype": "text/x-python",
   "name": "python",
   "nbconvert_exporter": "python",
   "pygments_lexer": "ipython3",
   "version": "3.13.5"
  }
 },
 "nbformat": 4,
 "nbformat_minor": 5
}
