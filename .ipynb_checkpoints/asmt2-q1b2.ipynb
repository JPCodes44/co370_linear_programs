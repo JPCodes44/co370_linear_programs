{
 "cells": [
  {
   "cell_type": "markdown",
   "id": "bf0c0395-0641-44fb-a6fc-917d0777bb8d",
   "metadata": {
    "tags": []
   },
   "source": [
    "### asmt 1 q1b"
   ]
  },
  {
   "cell_type": "code",
   "execution_count": 55,
   "id": "0b4b5ba5-3038-4114-a320-db147969121a",
   "metadata": {},
   "outputs": [],
   "source": [
    "# Import gurobi stuff\n",
    "\n",
    "import gurobipy as gp\n",
    "from gurobipy import GRB"
   ]
  },
  {
   "cell_type": "code",
   "execution_count": 56,
   "id": "04bdf870-6107-4b79-b3f8-05d37edce831",
   "metadata": {},
   "outputs": [],
   "source": [
    "# nodes with supplies/demands\n",
    "b = {\n",
    "    'a': 12,\n",
    "    'b': 6,\n",
    "    'c': 0,\n",
    "    'e': -6,\n",
    "    'f': -1,\n",
    "    'd': -11\n",
    "}\n",
    "\n",
    "# arcs: (tail, head): (cost, capacity)\n",
    "arcs = {\n",
    "    ('a','b'): (10, 5),\n",
    "    ('a','e'): (70, 2),\n",
    "    ('a','d'): (100, 9),\n",
    "    ('b','c'): (40, 5),\n",
    "    ('b','e'): (80, 8),\n",
    "    ('c','e'): (60, 7),\n",
    "    ('c','f'): (20, 15),\n",
    "    ('c','d'): (-60, 4),\n",
    "    ('e','f'): (10, 9),\n",
    "    ('f','d'): (30, 10),\n",
    "}\n"
   ]
  },
  {
   "cell_type": "code",
   "execution_count": 57,
   "id": "45cfd312-3fd3-470f-b896-6d8822b2aa8d",
   "metadata": {},
   "outputs": [
    {
     "data": {
      "text/plain": [
       "{(): <gurobi.Constr *Awaiting Model Update*>}"
      ]
     },
     "execution_count": 57,
     "metadata": {},
     "output_type": "execute_result"
    }
   ],
   "source": [
    "# Create a model, and variables 'flow' for each arc\n",
    "\n",
    "m = gp.Model(\"MinCostFlow\")\n",
    "\n",
    "x = m.addVars(arcs.keys(), name=\"flow\", lb=0)\n",
    "\n",
    "#Capacity constraints\n",
    "m.addConstrs((x[i,j] <= arcs[i,j][1] for i,j in arcs), name=\"cap\")"
   ]
  },
  {
   "cell_type": "code",
   "execution_count": 58,
   "id": "acda9b0c-0804-4151-b9ec-30c0a3b7f188",
   "metadata": {},
   "outputs": [],
   "source": [
    "# Create objective function, maximizing all arcs entering t\n",
    "# flow.sum('*','t') means from the variable flow, sum over all arcs where the second index is 't'\n",
    "\n",
    "m.setObjective(\n",
    "  gp.quicksum(arcs[i,j][0] * x[i,j] for i,j in arcs),\n",
    "  GRB.MINIMIZE\n",
    ")"
   ]
  },
  {
   "cell_type": "code",
   "execution_count": 59,
   "id": "335ddc64-d94c-4ca3-b79a-e9efe15f7b31",
   "metadata": {},
   "outputs": [
    {
     "data": {
      "text/plain": [
       "{'a': <gurobi.Constr *Awaiting Model Update*>,\n",
       " 'b': <gurobi.Constr *Awaiting Model Update*>,\n",
       " 'c': <gurobi.Constr *Awaiting Model Update*>,\n",
       " 'e': <gurobi.Constr *Awaiting Model Update*>,\n",
       " 'f': <gurobi.Constr *Awaiting Model Update*>,\n",
       " 'd': <gurobi.Constr *Awaiting Model Update*>}"
      ]
     },
     "execution_count": 59,
     "metadata": {},
     "output_type": "execute_result"
    }
   ],
   "source": [
    "# Create capacity constraints\n",
    "# for each arc \"a\", add the constraints flow[a] <= cap[a]\n",
    "\n",
    "m.addConstrs((\n",
    "    gp.quicksum(x[v,j] for j in b if (v,j) in x)\n",
    "  - gp.quicksum(x[i,v] for i in b if (i,v) in x)\n",
    "  == b[v]\n",
    "  for v in b\n",
    "), name=\"balance\")"
   ]
  },
  {
   "cell_type": "code",
   "execution_count": 60,
   "id": "5a0dcfcb-89c4-4db8-9da3-119cec3fa978",
   "metadata": {},
   "outputs": [],
   "source": [
    "# Update model\n",
    "\n",
    "m.update()"
   ]
  },
  {
   "cell_type": "code",
   "execution_count": 61,
   "id": "23918aad-01dc-42fd-a45f-0f783ffb4d71",
   "metadata": {},
   "outputs": [
    {
     "name": "stdout",
     "output_type": "stream",
     "text": [
      "Warning: linear constraint 0 and linear constraint 1 have the same name \"cap[]\"\n"
     ]
    }
   ],
   "source": [
    "# Save model into an lp file to check for accuracy\n",
    "\n",
    "m.write('asmt2-q1b2.lp')"
   ]
  },
  {
   "cell_type": "code",
   "execution_count": 62,
   "id": "b16e6499-68a4-4eb9-a3b3-e93f85231a5b",
   "metadata": {},
   "outputs": [
    {
     "name": "stdout",
     "output_type": "stream",
     "text": [
      "Gurobi Optimizer version 12.0.3 build v12.0.3rc0 (mac64[arm] - Darwin 24.6.0 24G309)\n",
      "\n",
      "CPU model: Apple M2\n",
      "Thread count: 8 physical cores, 8 logical processors, using up to 8 threads\n",
      "\n",
      "Optimize a model with 16 rows, 10 columns and 30 nonzeros\n",
      "Model fingerprint: 0xda300399\n",
      "Coefficient statistics:\n",
      "  Matrix range     [1e+00, 1e+00]\n",
      "  Objective range  [1e+01, 1e+02]\n",
      "  Bounds range     [0e+00, 0e+00]\n",
      "  RHS range        [1e+00, 2e+01]\n",
      "Presolve removed 11 rows and 1 columns\n",
      "Presolve time: 0.00s\n",
      "Presolved: 5 rows, 9 columns, 15 nonzeros\n",
      "\n",
      "Iteration    Objective       Primal Inf.    Dual Inf.      Time\n",
      "       0    6.0922000e+02   8.010500e+00   0.000000e+00      0s\n",
      "       4    1.1700000e+03   0.000000e+00   0.000000e+00      0s\n",
      "\n",
      "Solved in 4 iterations and 0.01 seconds (0.00 work units)\n",
      "Optimal objective  1.170000000e+03\n"
     ]
    }
   ],
   "source": [
    "# Optimize model\n",
    "\n",
    "m.optimize()"
   ]
  },
  {
   "cell_type": "code",
   "execution_count": 63,
   "id": "a06a4cdd-5749-4480-843e-51b188f4cf75",
   "metadata": {},
   "outputs": [
    {
     "name": "stdout",
     "output_type": "stream",
     "text": [
      "\n",
      "    Variable            x \n",
      "-------------------------\n",
      "   flow[a,b]            3 \n",
      "   flow[a,e]            2 \n",
      "   flow[a,d]            7 \n",
      "   flow[b,c]            5 \n",
      "   flow[b,e]            4 \n",
      "   flow[c,f]            1 \n",
      "   flow[c,d]            4 \n"
     ]
    }
   ],
   "source": [
    "# Optimal solution\n",
    "\n",
    "m.printAttr('x')"
   ]
  },
  {
   "cell_type": "code",
   "execution_count": null,
   "id": "66fcffd5-4838-4cb7-867e-bd93b829bf8c",
   "metadata": {},
   "outputs": [],
   "source": []
  }
 ],
 "metadata": {
  "kernelspec": {
   "display_name": ".venv",
   "language": "python",
   "name": "python3"
  },
  "language_info": {
   "codemirror_mode": {
    "name": "ipython",
    "version": 3
   },
   "file_extension": ".py",
   "mimetype": "text/x-python",
   "name": "python",
   "nbconvert_exporter": "python",
   "pygments_lexer": "ipython3",
   "version": "3.13.5"
  }
 },
 "nbformat": 4,
 "nbformat_minor": 5
}
